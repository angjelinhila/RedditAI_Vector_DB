{
 "cells": [
  {
   "cell_type": "code",
   "execution_count": null,
   "metadata": {},
   "outputs": [],
   "source": []
  },
  {
   "cell_type": "code",
   "execution_count": 1,
   "metadata": {},
   "outputs": [
    {
     "name": "stdout",
     "output_type": "stream",
     "text": [
      "archived                           853\n",
      "author                               0\n",
      "author_flair_background_color    81720\n",
      "author_flair_css_class           88109\n",
      "author_flair_richtext            19324\n",
      "                                 ...  \n",
      "author_is_blocked                51854\n",
      "updated_on                       57502\n",
      "previous_selftext                88266\n",
      "_meta                            67203\n",
      "comments                             0\n",
      "Length: 131, dtype: int64\n"
     ]
    }
   ],
   "source": [
    "import pandas as pd\n",
    "\n",
    "# Load the merged JSONL file\n",
    "df = pd.read_json(\"/Users/angjelin/Library/CloudStorage/Box-Box/Reddit Vector DB/Data/Processed/artificial_nested_submissions_with_comments.json\", lines=True)\n",
    "\n",
    "# Check for NaN values\n",
    "print(df.isna().sum())\n"
   ]
  },
  {
   "cell_type": "code",
   "execution_count": 2,
   "metadata": {},
   "outputs": [
    {
     "name": "stdout",
     "output_type": "stream",
     "text": [
      "body                          0\n",
      "parent_id                     0\n",
      "author                        0\n",
      "edited                        0\n",
      "distinguished            385582\n",
      "                          ...  \n",
      "ups                       67343\n",
      "body_sha1                413869\n",
      "nest_level               413932\n",
      "_meta                    149498\n",
      "expression_asset_data    413979\n",
      "Length: 83, dtype: int64\n"
     ]
    }
   ],
   "source": [
    "import pandas as pd\n",
    "\n",
    "# Load the merged JSONL file\n",
    "df = pd.read_json(\"/Users/angjelin/Library/CloudStorage/Box-Box/Reddit Vector DB/Data/Raw/artificialinteligence_comments.json\", lines=True)\n",
    "\n",
    "# Check for NaN values\n",
    "print(df.isna().sum())\n"
   ]
  },
  {
   "cell_type": "code",
   "execution_count": 4,
   "metadata": {},
   "outputs": [
    {
     "name": "stdout",
     "output_type": "stream",
     "text": [
      "archived                           843\n",
      "author                               0\n",
      "author_flair_background_color    15450\n",
      "author_flair_css_class           16992\n",
      "author_flair_text                16734\n",
      "                                 ...  \n",
      "call_to_action                   17129\n",
      "author_is_blocked                14139\n",
      "updated_on                       14566\n",
      "previous_selftext                17101\n",
      "_meta                            15178\n",
      "Length: 134, dtype: int64\n"
     ]
    }
   ],
   "source": [
    "import pandas as pd\n",
    "df = pd.read_json(\"/Users/angjelin/Library/CloudStorage/Box-Box/Reddit Vector DB/Data/Processed/transhumanism_nested_submissions_with_comments.json\", lines=True)\n",
    "\n",
    "print(df.isna().sum())"
   ]
  }
 ],
 "metadata": {
  "kernelspec": {
   "display_name": "Python 3",
   "language": "python",
   "name": "python3"
  },
  "language_info": {
   "codemirror_mode": {
    "name": "ipython",
    "version": 3
   },
   "file_extension": ".py",
   "mimetype": "text/x-python",
   "name": "python",
   "nbconvert_exporter": "python",
   "pygments_lexer": "ipython3",
   "version": "3.12.5"
  }
 },
 "nbformat": 4,
 "nbformat_minor": 2
}
