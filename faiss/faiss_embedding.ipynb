{
 "cells": [
  {
   "cell_type": "code",
   "execution_count": 1,
   "metadata": {},
   "outputs": [],
   "source": [
    "import faiss\n",
    "import numpy as np\n",
    "import torch\n",
    "from transformers import AutoTokenizer, AutoModel\n",
    "import json\n",
    "import os\n",
    "from tqdm import tqdm\n",
    "import time"
   ]
  },
  {
   "cell_type": "code",
   "execution_count": 2,
   "metadata": {},
   "outputs": [
    {
     "data": {
      "text/plain": [
       "BertModel(\n",
       "  (embeddings): BertEmbeddings(\n",
       "    (word_embeddings): Embedding(30522, 768, padding_idx=0)\n",
       "    (position_embeddings): Embedding(512, 768)\n",
       "    (token_type_embeddings): Embedding(2, 768)\n",
       "    (LayerNorm): LayerNorm((768,), eps=1e-12, elementwise_affine=True)\n",
       "    (dropout): Dropout(p=0.1, inplace=False)\n",
       "  )\n",
       "  (encoder): BertEncoder(\n",
       "    (layer): ModuleList(\n",
       "      (0-11): 12 x BertLayer(\n",
       "        (attention): BertAttention(\n",
       "          (self): BertSdpaSelfAttention(\n",
       "            (query): Linear(in_features=768, out_features=768, bias=True)\n",
       "            (key): Linear(in_features=768, out_features=768, bias=True)\n",
       "            (value): Linear(in_features=768, out_features=768, bias=True)\n",
       "            (dropout): Dropout(p=0.1, inplace=False)\n",
       "          )\n",
       "          (output): BertSelfOutput(\n",
       "            (dense): Linear(in_features=768, out_features=768, bias=True)\n",
       "            (LayerNorm): LayerNorm((768,), eps=1e-12, elementwise_affine=True)\n",
       "            (dropout): Dropout(p=0.1, inplace=False)\n",
       "          )\n",
       "        )\n",
       "        (intermediate): BertIntermediate(\n",
       "          (dense): Linear(in_features=768, out_features=3072, bias=True)\n",
       "          (intermediate_act_fn): GELUActivation()\n",
       "        )\n",
       "        (output): BertOutput(\n",
       "          (dense): Linear(in_features=3072, out_features=768, bias=True)\n",
       "          (LayerNorm): LayerNorm((768,), eps=1e-12, elementwise_affine=True)\n",
       "          (dropout): Dropout(p=0.1, inplace=False)\n",
       "        )\n",
       "      )\n",
       "    )\n",
       "  )\n",
       "  (pooler): BertPooler(\n",
       "    (dense): Linear(in_features=768, out_features=768, bias=True)\n",
       "    (activation): Tanh()\n",
       "  )\n",
       ")"
      ]
     },
     "execution_count": 2,
     "metadata": {},
     "output_type": "execute_result"
    }
   ],
   "source": [
    "# Model and tokenizer\n",
    "model_name = \"bert-base-uncased\"\n",
    "tokenizer = AutoTokenizer.from_pretrained(model_name)\n",
    "model = AutoModel.from_pretrained(model_name)\n",
    "model.eval()"
   ]
  },
  {
   "cell_type": "code",
   "execution_count": 3,
   "metadata": {},
   "outputs": [],
   "source": [
    "# Directory with processed JSONL files\n",
    "DATA_DIR = \"/Users/angjelin/Library/CloudStorage/Box-Box/Reddit Vector DB/Data/Processed\"\n",
    "#FAISS_OUTPUT_DIR = os.path.expanduser(\"/Users/angjelin/Library/CloudStorage/Box-Box/Reddit Vector DB/FAISS/index\")\n",
    "FAISS_OUTPUT_DIR = os.path.expanduser(\"~/faiss_indexes\")  # store outside Box\n",
    "os.makedirs(FAISS_OUTPUT_DIR, exist_ok=True)"
   ]
  },
  {
   "cell_type": "code",
   "execution_count": 4,
   "metadata": {},
   "outputs": [],
   "source": [
    "# Vector dimension for BERT\n",
    "DIM = 768\n",
    "\n",
    "def get_embedding_batch(texts):\n",
    "    device = torch.device(\"cpu\")\n",
    "    try:\n",
    "        inputs = tokenizer(texts, return_tensors=\"pt\", truncation=True, padding=True, max_length=512).to(device)\n",
    "        with torch.no_grad():\n",
    "            outputs = model(**inputs)\n",
    "        return outputs.last_hidden_state.mean(dim=1).cpu().numpy()\n",
    "    except RuntimeError as e:\n",
    "        print(f\"Memory error on batch of size {len(texts)}: {e}. Retrying with smaller batch...\")\n",
    "        if len(texts) == 1:\n",
    "            raise e\n",
    "        mid = len(texts) // 2\n",
    "        return np.vstack([\n",
    "            get_embedding_batch(texts[:mid], device),\n",
    "            get_embedding_batch(texts[mid:], device)\n",
    "        ])\n",
    "\n",
    "def index_faiss_for_file(filepath, index_path, batch_size=4, max_lines=None):\n",
    "    index = faiss.IndexFlatL2(DIM)\n",
    "    buffer = []\n",
    "    total_processed = 0\n",
    "    start_time = time.time()\n",
    "\n",
    "    with open(filepath, \"r\") as f:\n",
    "        for i, line in enumerate(tqdm(f, desc=f\"Indexing {os.path.basename(filepath)}\")):\n",
    "            if max_lines and i >= max_lines:\n",
    "                break\n",
    "            try:\n",
    "                data = json.loads(line)\n",
    "                text = data.get(\"body\") or data.get(\"selftext\")\n",
    "                if text:\n",
    "                    buffer.append(text)\n",
    "                    if len(buffer) == batch_size:\n",
    "                        embeddings = get_embedding_batch(buffer)\n",
    "                        index.add(embeddings.astype(np.float32))\n",
    "                        total_processed += len(buffer)\n",
    "                        print(f\"→ Processed {total_processed} entries\")\n",
    "                        buffer = []\n",
    "            except Exception as e:\n",
    "                print(f\"Skipping line due to error: {e}\")\n",
    "\n",
    "    if buffer:\n",
    "        embeddings = get_embedding_batch(buffer)\n",
    "        index.add(embeddings.astype(np.float32))\n",
    "        total_processed += len(buffer)\n",
    "        print(f\"→ Processed {total_processed} entries (final batch)\")\n",
    "\n",
    "    faiss.write_index(index, index_path)\n",
    "    duration = time.time() - start_time\n",
    "    print(f\"✅ Saved FAISS index to {index_path} in {duration:.2f} seconds\")"
   ]
  },
  {
   "cell_type": "code",
   "execution_count": 5,
   "metadata": {},
   "outputs": [
    {
     "name": "stdout",
     "output_type": "stream",
     "text": [
      "🔄 Indexing singularity_comments_cleaned.json ...\n"
     ]
    },
    {
     "name": "stderr",
     "output_type": "stream",
     "text": [
      "Indexing singularity_comments_cleaned.json: 0it [00:00, ?it/s]"
     ]
    },
    {
     "ename": "",
     "evalue": "",
     "output_type": "error",
     "traceback": [
      "\u001b[1;31mThe Kernel crashed while executing code in the current cell or a previous cell. \n",
      "\u001b[1;31mPlease review the code in the cell(s) to identify a possible cause of the failure. \n",
      "\u001b[1;31mClick <a href='https://aka.ms/vscodeJupyterKernelCrash'>here</a> for more info. \n",
      "\u001b[1;31mView Jupyter <a href='command:jupyter.viewOutput'>log</a> for further details."
     ]
    }
   ],
   "source": [
    "if __name__ == \"__main__\":\n",
    "    if not os.access(FAISS_OUTPUT_DIR, os.W_OK):\n",
    "        raise PermissionError(f\"Cannot write to {FAISS_OUTPUT_DIR}. Check permissions.\")\n",
    "\n",
    "    for filename in os.listdir(DATA_DIR):\n",
    "        if filename.endswith(\"_cleaned.json\") and (\"submissions\" in filename or \"comments\" in filename):\n",
    "            filepath = os.path.join(DATA_DIR, filename)\n",
    "            index_path = os.path.join(FAISS_OUTPUT_DIR, f\"{filename.replace('.json', '.index')}\")\n",
    "            if os.path.exists(index_path):\n",
    "                print(f\"✅ Skipping {filename}, index already exists.\")\n",
    "                continue\n",
    "            print(f\"🔄 Indexing {filename} ...\")\n",
    "            index_faiss_for_file(filepath, index_path, batch_size=4, max_lines=None)  # optionally set max_lines to debug\n"
   ]
  }
 ],
 "metadata": {
  "kernelspec": {
   "display_name": "Python 3",
   "language": "python",
   "name": "python3"
  },
  "language_info": {
   "codemirror_mode": {
    "name": "ipython",
    "version": 3
   },
   "file_extension": ".py",
   "mimetype": "text/x-python",
   "name": "python",
   "nbconvert_exporter": "python",
   "pygments_lexer": "ipython3",
   "version": "3.12.5"
  }
 },
 "nbformat": 4,
 "nbformat_minor": 2
}
